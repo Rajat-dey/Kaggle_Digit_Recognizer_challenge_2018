{
 "cells": [
  {
   "cell_type": "code",
   "execution_count": 0,
   "metadata": {
    "colab": {
     "autoexec": {
      "startup": false,
      "wait_interval": 0
     }
    },
    "colab_type": "code",
    "id": "VSyL0wc70M0A"
   },
   "outputs": [],
   "source": [
    "!pip install -U -q PyDrive\n",
    "from pydrive.auth import GoogleAuth\n",
    "from pydrive.drive import GoogleDrive\n",
    "from google.colab import auth\n",
    "from oauth2client.client import GoogleCredentials\n",
    "\n",
    "\n",
    "\n",
    "\n",
    "\n"
   ]
  },
  {
   "cell_type": "code",
   "execution_count": 0,
   "metadata": {
    "colab": {
     "autoexec": {
      "startup": false,
      "wait_interval": 0
     }
    },
    "colab_type": "code",
    "id": "umKWuUBr0-Dc"
   },
   "outputs": [],
   "source": [
    "#authenticate\n",
    "auth.authenticate_user()\n",
    "gauth=GoogleAuth()\n",
    "gauth.credentials = GoogleCredentials.get_application_default()\n",
    "drive = GoogleDrive(gauth)"
   ]
  },
  {
   "cell_type": "code",
   "execution_count": 4,
   "metadata": {
    "colab": {
     "autoexec": {
      "startup": false,
      "wait_interval": 0
     },
     "base_uri": "https://localhost:8080/",
     "height": 34
    },
    "colab_type": "code",
    "executionInfo": {
     "elapsed": 2810,
     "status": "ok",
     "timestamp": 1532797185885,
     "user": {
      "displayName": "Rajat Dey",
      "photoUrl": "//lh6.googleusercontent.com/-TGVxt49alJU/AAAAAAAAAAI/AAAAAAAAB94/GEEKep3pa04/s50-c-k-no/photo.jpg",
      "userId": "100492593475845593933"
     },
     "user_tz": -330
    },
    "id": "rHgUevzA1KpU",
    "outputId": "8554da20-4263-481a-9f4e-c1dc6615b5b8"
   },
   "outputs": [
    {
     "name": "stdout",
     "output_type": "stream",
     "text": [
      "1.9.0 1.14.5\n"
     ]
    }
   ],
   "source": [
    "import tensorflow as tf\n",
    "import numpy as np\n",
    "print(tf.__version__, np.__version__)"
   ]
  },
  {
   "cell_type": "code",
   "execution_count": 5,
   "metadata": {
    "colab": {
     "autoexec": {
      "startup": false,
      "wait_interval": 0
     },
     "base_uri": "https://localhost:8080/",
     "height": 51
    },
    "colab_type": "code",
    "executionInfo": {
     "elapsed": 5170,
     "status": "ok",
     "timestamp": 1532797202887,
     "user": {
      "displayName": "Rajat Dey",
      "photoUrl": "//lh6.googleusercontent.com/-TGVxt49alJU/AAAAAAAAAAI/AAAAAAAAB94/GEEKep3pa04/s50-c-k-no/photo.jpg",
      "userId": "100492593475845593933"
     },
     "user_tz": -330
    },
    "id": "RIWy5K911D_-",
    "outputId": "0a031d6d-4978-4756-e84c-2010e65ca03f"
   },
   "outputs": [
    {
     "name": "stdout",
     "output_type": "stream",
     "text": [
      "Downloading data from https://s3.amazonaws.com/img-datasets/mnist.npz\n",
      "11493376/11490434 [==============================] - 4s 0us/step\n"
     ]
    }
   ],
   "source": [
    "(train_images, train_labels), (test_images, test_labels) = tf.keras.datasets.mnist.load_data()"
   ]
  },
  {
   "cell_type": "code",
   "execution_count": 6,
   "metadata": {
    "colab": {
     "autoexec": {
      "startup": false,
      "wait_interval": 0
     },
     "base_uri": "https://localhost:8080/",
     "height": 299
    },
    "colab_type": "code",
    "executionInfo": {
     "elapsed": 884,
     "status": "ok",
     "timestamp": 1532797221999,
     "user": {
      "displayName": "Rajat Dey",
      "photoUrl": "//lh6.googleusercontent.com/-TGVxt49alJU/AAAAAAAAAAI/AAAAAAAAB94/GEEKep3pa04/s50-c-k-no/photo.jpg",
      "userId": "100492593475845593933"
     },
     "user_tz": -330
    },
    "id": "U1tezNnc1R0L",
    "outputId": "f827d662-ac1d-4f57-b355-1123757b2078"
   },
   "outputs": [
    {
     "name": "stdout",
     "output_type": "stream",
     "text": [
      "Label: 3\n"
     ]
    },
    {
     "data": {
      "text/plain": [
       "<matplotlib.image.AxesImage at 0x7fc101179b00>"
      ]
     },
     "execution_count": 6,
     "metadata": {
      "tags": []
     },
     "output_type": "execute_result"
    },
    {
     "data": {
      "image/png": "[encoded data removed]",
      "text/plain": [
       "<matplotlib.figure.Figure at 0x7fc1011f5c18>"
      ]
     },
     "metadata": {
      "tags": []
     },
     "output_type": "display_data"
    }
   ],
   "source": [
    "#visualize the data\n",
    "import random\n",
    "import matplotlib.pyplot as plt\n",
    "%matplotlib inline\n",
    "\n",
    "i= random.randint(0, 100)\n",
    "\n",
    "print(\"Label: %s\" % train_labels[i])\n",
    "plt.imshow(train_images[i])"
   ]
  },
  {
   "cell_type": "code",
   "execution_count": 7,
   "metadata": {
    "colab": {
     "autoexec": {
      "startup": false,
      "wait_interval": 0
     },
     "base_uri": "https://localhost:8080/",
     "height": 884
    },
    "colab_type": "code",
    "executionInfo": {
     "elapsed": 853,
     "status": "ok",
     "timestamp": 1532797238977,
     "user": {
      "displayName": "Rajat Dey",
      "photoUrl": "//lh6.googleusercontent.com/-TGVxt49alJU/AAAAAAAAAAI/AAAAAAAAB94/GEEKep3pa04/s50-c-k-no/photo.jpg",
      "userId": "100492593475845593933"
     },
     "user_tz": -330
    },
    "id": "5b81mn7g1Xht",
    "outputId": "3825e41f-9ddb-4674-8fae-3244f4686994"
   },
   "outputs": [
    {
     "name": "stdout",
     "output_type": "stream",
     "text": [
      "(60000, 28, 28)\n",
      "(10000, 28, 28)\n",
      "[[[0 0 0 ... 0 0 0]\n",
      "  [0 0 0 ... 0 0 0]\n",
      "  [0 0 0 ... 0 0 0]\n",
      "  ...\n",
      "  [0 0 0 ... 0 0 0]\n",
      "  [0 0 0 ... 0 0 0]\n",
      "  [0 0 0 ... 0 0 0]]\n",
      "\n",
      " [[0 0 0 ... 0 0 0]\n",
      "  [0 0 0 ... 0 0 0]\n",
      "  [0 0 0 ... 0 0 0]\n",
      "  ...\n",
      "  [0 0 0 ... 0 0 0]\n",
      "  [0 0 0 ... 0 0 0]\n",
      "  [0 0 0 ... 0 0 0]]\n",
      "\n",
      " [[0 0 0 ... 0 0 0]\n",
      "  [0 0 0 ... 0 0 0]\n",
      "  [0 0 0 ... 0 0 0]\n",
      "  ...\n",
      "  [0 0 0 ... 0 0 0]\n",
      "  [0 0 0 ... 0 0 0]\n",
      "  [0 0 0 ... 0 0 0]]\n",
      "\n",
      " ...\n",
      "\n",
      " [[0 0 0 ... 0 0 0]\n",
      "  [0 0 0 ... 0 0 0]\n",
      "  [0 0 0 ... 0 0 0]\n",
      "  ...\n",
      "  [0 0 0 ... 0 0 0]\n",
      "  [0 0 0 ... 0 0 0]\n",
      "  [0 0 0 ... 0 0 0]]\n",
      "\n",
      " [[0 0 0 ... 0 0 0]\n",
      "  [0 0 0 ... 0 0 0]\n",
      "  [0 0 0 ... 0 0 0]\n",
      "  ...\n",
      "  [0 0 0 ... 0 0 0]\n",
      "  [0 0 0 ... 0 0 0]\n",
      "  [0 0 0 ... 0 0 0]]\n",
      "\n",
      " [[0 0 0 ... 0 0 0]\n",
      "  [0 0 0 ... 0 0 0]\n",
      "  [0 0 0 ... 0 0 0]\n",
      "  ...\n",
      "  [0 0 0 ... 0 0 0]\n",
      "  [0 0 0 ... 0 0 0]\n",
      "  [0 0 0 ... 0 0 0]]]\n"
     ]
    }
   ],
   "source": [
    "#understand the data format\n",
    "\n",
    "print(train_images.shape)\n",
    "print(test_images.shape)\n",
    "print(train_images)"
   ]
  },
  {
   "cell_type": "code",
   "execution_count": 8,
   "metadata": {
    "colab": {
     "autoexec": {
      "startup": false,
      "wait_interval": 0
     },
     "base_uri": "https://localhost:8080/",
     "height": 1513
    },
    "colab_type": "code",
    "executionInfo": {
     "elapsed": 1155,
     "status": "ok",
     "timestamp": 1532797261663,
     "user": {
      "displayName": "Rajat Dey",
      "photoUrl": "//lh6.googleusercontent.com/-TGVxt49alJU/AAAAAAAAAAI/AAAAAAAAB94/GEEKep3pa04/s50-c-k-no/photo.jpg",
      "userId": "100492593475845593933"
     },
     "user_tz": -330
    },
    "id": "DONVAuN41brT",
    "outputId": "d1ddd891-9e49-4de9-8293-4612966c86df"
   },
   "outputs": [
    {
     "name": "stdout",
     "output_type": "stream",
     "text": [
      "(60000, 784) (10000, 784)\n",
      "[  0   0   0   0   0   0   0   0   0   0   0   0   0   0   0   0   0   0\n",
      "   0   0   0   0   0   0   0   0   0   0   0   0   0   0   0   0   0   0\n",
      "   0   0   0   0   0   0   0   0   0   0   0   0   0   0   0   0   0   0\n",
      "   0   0   0   0   0   0   0   0   0   0   0   0   0   0   0   0   0   0\n",
      "   0   0   0   0   0   0   0   0   0   0   0   0   0   0   0   0   0   0\n",
      "   0   0   0   0   0   0   0   0   0   0   0   0   0   0   0   0   0   0\n",
      "   0   0   0   0   0   0   0   0   0   0   0   0   0   0   0   0   0   0\n",
      "   0   0   0   0   0   0   0   0   0   0   0   0   0   0   0   0   0   0\n",
      "   0   0   0   0   0   0   0   0   3  18  18  18 126 136 175  26 166 255\n",
      " 247 127   0   0   0   0   0   0   0   0   0   0   0   0  30  36  94 154\n",
      " 170 253 253 253 253 253 225 172 253 242 195  64   0   0   0   0   0   0\n",
      "   0   0   0   0   0  49 238 253 253 253 253 253 253 253 253 251  93  82\n",
      "  82  56  39   0   0   0   0   0   0   0   0   0   0   0   0  18 219 253\n",
      " 253 253 253 253 198 182 247 241   0   0   0   0   0   0   0   0   0   0\n",
      "   0   0   0   0   0   0   0   0  80 156 107 253 253 205  11   0  43 154\n",
      "   0   0   0   0   0   0   0   0   0   0   0   0   0   0   0   0   0   0\n",
      "   0  14   1 154 253  90   0   0   0   0   0   0   0   0   0   0   0   0\n",
      "   0   0   0   0   0   0   0   0   0   0   0   0   0 139 253 190   2   0\n",
      "   0   0   0   0   0   0   0   0   0   0   0   0   0   0   0   0   0   0\n",
      "   0   0   0   0   0  11 190 253  70   0   0   0   0   0   0   0   0   0\n",
      "   0   0   0   0   0   0   0   0   0   0   0   0   0   0   0   0  35 241\n",
      " 225 160 108   1   0   0   0   0   0   0   0   0   0   0   0   0   0   0\n",
      "   0   0   0   0   0   0   0   0   0  81 240 253 253 119  25   0   0   0\n",
      "   0   0   0   0   0   0   0   0   0   0   0   0   0   0   0   0   0   0\n",
      "   0   0  45 186 253 253 150  27   0   0   0   0   0   0   0   0   0   0\n",
      "   0   0   0   0   0   0   0   0   0   0   0   0   0  16  93 252 253 187\n",
      "   0   0   0   0   0   0   0   0   0   0   0   0   0   0   0   0   0   0\n",
      "   0   0   0   0   0   0   0 249 253 249  64   0   0   0   0   0   0   0\n",
      "   0   0   0   0   0   0   0   0   0   0   0   0   0   0  46 130 183 253\n",
      " 253 207   2   0   0   0   0   0   0   0   0   0   0   0   0   0   0   0\n",
      "   0   0   0   0  39 148 229 253 253 253 250 182   0   0   0   0   0   0\n",
      "   0   0   0   0   0   0   0   0   0   0   0   0  24 114 221 253 253 253\n",
      " 253 201  78   0   0   0   0   0   0   0   0   0   0   0   0   0   0   0\n",
      "   0   0  23  66 213 253 253 253 253 198  81   2   0   0   0   0   0   0\n",
      "   0   0   0   0   0   0   0   0   0   0  18 171 219 253 253 253 253 195\n",
      "  80   9   0   0   0   0   0   0   0   0   0   0   0   0   0   0   0   0\n",
      "  55 172 226 253 253 253 253 244 133  11   0   0   0   0   0   0   0   0\n",
      "   0   0   0   0   0   0   0   0   0   0 136 253 253 253 212 135 132  16\n",
      "   0   0   0   0   0   0   0   0   0   0   0   0   0   0   0   0   0   0\n",
      "   0   0   0   0   0   0   0   0   0   0   0   0   0   0   0   0   0   0\n",
      "   0   0   0   0   0   0   0   0   0   0   0   0   0   0   0   0   0   0\n",
      "   0   0   0   0   0   0   0   0   0   0   0   0   0   0   0   0   0   0\n",
      "   0   0   0   0   0   0   0   0   0   0   0   0   0   0   0   0   0   0\n",
      "   0   0   0   0   0   0   0   0   0   0] [  0   0   0   0   0   0   0   0   0   0   0   0   0   0   0   0   0   0\n",
      "   0   0   0   0   0   0   0   0   0   0   0   0   0   0   0   0   0   0\n",
      "   0   0   0   0   0   0   0   0   0   0   0   0   0   0   0   0   0   0\n",
      "   0   0   0   0   0   0   0   0   0   0   0   0   0   0   0   0   0   0\n",
      "   0   0   0   0   0   0   0   0   0   0   0   0   0   0   0   0   0   0\n",
      "   0   0   0   0   0   0   0   0   0   0   0   0   0   0   0   0   0   0\n",
      "   0   0   0   0   0   0   0   0   0   0   0   0   0   0   0   0   0   0\n",
      "   0   0   0   0   0   0   0   0   0   0   0   0   0   0   0   0   0   0\n",
      "   0   0   0   0   0   0   0   0   0   0   0   0   0   0   0   0   0   0\n",
      "   0   0   0   0   0   0   0   0   0   0   0   0   0   0   0   0   0   0\n",
      "   0   0   0   0   0   0   0   0   0   0   0   0   0   0   0   0   0   0\n",
      "   0   0   0   0  84 185 159 151  60  36   0   0   0   0   0   0   0   0\n",
      "   0   0   0   0   0   0   0   0   0   0   0   0   0   0 222 254 254 254\n",
      " 254 241 198 198 198 198 198 198 198 198 170  52   0   0   0   0   0   0\n",
      "   0   0   0   0   0   0  67 114  72 114 163 227 254 225 254 254 254 250\n",
      " 229 254 254 140   0   0   0   0   0   0   0   0   0   0   0   0   0   0\n",
      "   0   0   0  17  66  14  67  67  67  59  21 236 254 106   0   0   0   0\n",
      "   0   0   0   0   0   0   0   0   0   0   0   0   0   0   0   0   0   0\n",
      "   0   0  83 253 209  18   0   0   0   0   0   0   0   0   0   0   0   0\n",
      "   0   0   0   0   0   0   0   0   0   0   0  22 233 255  83   0   0   0\n",
      "   0   0   0   0   0   0   0   0   0   0   0   0   0   0   0   0   0   0\n",
      "   0   0   0 129 254 238  44   0   0   0   0   0   0   0   0   0   0   0\n",
      "   0   0   0   0   0   0   0   0   0   0   0   0  59 249 254  62   0   0\n",
      "   0   0   0   0   0   0   0   0   0   0   0   0   0   0   0   0   0   0\n",
      "   0   0   0   0 133 254 187   5   0   0   0   0   0   0   0   0   0   0\n",
      "   0   0   0   0   0   0   0   0   0   0   0   0   0   9 205 248  58   0\n",
      "   0   0   0   0   0   0   0   0   0   0   0   0   0   0   0   0   0   0\n",
      "   0   0   0   0   0 126 254 182   0   0   0   0   0   0   0   0   0   0\n",
      "   0   0   0   0   0   0   0   0   0   0   0   0   0   0  75 251 240  57\n",
      "   0   0   0   0   0   0   0   0   0   0   0   0   0   0   0   0   0   0\n",
      "   0   0   0   0   0  19 221 254 166   0   0   0   0   0   0   0   0   0\n",
      "   0   0   0   0   0   0   0   0   0   0   0   0   0   0   3 203 254 219\n",
      "  35   0   0   0   0   0   0   0   0   0   0   0   0   0   0   0   0   0\n",
      "   0   0   0   0   0   0  38 254 254  77   0   0   0   0   0   0   0   0\n",
      "   0   0   0   0   0   0   0   0   0   0   0   0   0   0   0  31 224 254\n",
      " 115   1   0   0   0   0   0   0   0   0   0   0   0   0   0   0   0   0\n",
      "   0   0   0   0   0   0   0 133 254 254  52   0   0   0   0   0   0   0\n",
      "   0   0   0   0   0   0   0   0   0   0   0   0   0   0   0   0  61 242\n",
      " 254 254  52   0   0   0   0   0   0   0   0   0   0   0   0   0   0   0\n",
      "   0   0   0   0   0   0   0   0 121 254 254 219  40   0   0   0   0   0\n",
      "   0   0   0   0   0   0   0   0   0   0   0   0   0   0   0   0   0   0\n",
      " 121 254 207  18   0   0   0   0   0   0   0   0   0   0   0   0   0   0\n",
      "   0   0   0   0   0   0   0   0   0   0   0   0   0   0   0   0   0   0\n",
      "   0   0   0   0   0   0   0   0   0   0]\n"
     ]
    }
   ],
   "source": [
    "#Reformat the images\n",
    "TRAINING_SIZE = len(train_images)\n",
    "TEST_SIZE = len(test_images)\n",
    "\n",
    "#print(type(TEST_SIZE))\n",
    "#reshape from (N, 28,28) to (N,784)\n",
    "\n",
    "train_images = np.reshape(train_images,(TRAINING_SIZE, 784))\n",
    "test_images  = np.reshape(test_images,(TEST_SIZE, 784))\n",
    "\n",
    "print(train_images.shape, test_images.shape)\n",
    "\n",
    "print(train_images[0], test_images[0])\n",
    "\n",
    "#convert the array to float32 as oppesed to unit8\n",
    "train_images = train_images.astype(np.float32)\n",
    "test_images = test_images.astype(np.float32)\n",
    "\n",
    "#convert the pixel values from interger between 0 to 255 to float\n",
    "train_images/=255   # as grayscale is falled in betweeen 0 t0 255\n",
    "test_images/=255    #normalization is done only to lie the value in between 0 and 1 ie. 3d to 3d\n",
    "\n",
    "#print(train_images)\n",
    "#print(test_images)"
   ]
  },
  {
   "cell_type": "code",
   "execution_count": 9,
   "metadata": {
    "colab": {
     "autoexec": {
      "startup": false,
      "wait_interval": 0
     },
     "base_uri": "https://localhost:8080/",
     "height": 51
    },
    "colab_type": "code",
    "executionInfo": {
     "elapsed": 888,
     "status": "ok",
     "timestamp": 1532797280596,
     "user": {
      "displayName": "Rajat Dey",
      "photoUrl": "//lh6.googleusercontent.com/-TGVxt49alJU/AAAAAAAAAAI/AAAAAAAAB94/GEEKep3pa04/s50-c-k-no/photo.jpg",
      "userId": "100492593475845593933"
     },
     "user_tz": -330
    },
    "id": "ials5iHi1hJM",
    "outputId": "2ce7ae1a-d37a-44eb-efb8-d49f9f4374b8"
   },
   "outputs": [
    {
     "name": "stdout",
     "output_type": "stream",
     "text": [
      "Before 5\n",
      "After [0. 0. 0. 0. 0. 1. 0. 0. 0. 0.]\n"
     ]
    }
   ],
   "source": [
    "#Checking the labels after and before the Normalization of any of these.\n",
    "#Make the class(class0, class1, class2, class3, ........., class9)\n",
    "NUM_DIGITS = 10\n",
    "print(\"Before\", train_labels[0]) # The format of the labels before conversion\n",
    "train_labels  = tf.keras.utils.to_categorical(train_labels, NUM_DIGITS)\n",
    "print(\"After\", train_labels[0]) # The format of the labels after conversion\n",
    "test_labels = tf.keras.utils.to_categorical(test_labels, NUM_DIGITS)\n"
   ]
  },
  {
   "cell_type": "code",
   "execution_count": 0,
   "metadata": {
    "colab": {
     "autoexec": {
      "startup": false,
      "wait_interval": 0
     }
    },
    "colab_type": "code",
    "id": "axI1YoI51l1N"
   },
   "outputs": [],
   "source": [
    "#Creating the model\n",
    "model = tf.keras.Sequential()\n",
    "model.add(tf.keras.layers.Dense(512, activation=tf.nn.relu, input_shape=(784,)))\n",
    "model.add(tf.keras.layers.Dense(10, activation=tf.nn.softmax))"
   ]
  },
  {
   "cell_type": "code",
   "execution_count": 11,
   "metadata": {
    "colab": {
     "autoexec": {
      "startup": false,
      "wait_interval": 0
     },
     "base_uri": "https://localhost:8080/",
     "height": 204
    },
    "colab_type": "code",
    "executionInfo": {
     "elapsed": 898,
     "status": "ok",
     "timestamp": 1532797323035,
     "user": {
      "displayName": "Rajat Dey",
      "photoUrl": "//lh6.googleusercontent.com/-TGVxt49alJU/AAAAAAAAAAI/AAAAAAAAB94/GEEKep3pa04/s50-c-k-no/photo.jpg",
      "userId": "100492593475845593933"
     },
     "user_tz": -330
    },
    "id": "dEB95Xir1tce",
    "outputId": "de3f919c-d591-4cb1-e802-ccf1700f3e11"
   },
   "outputs": [
    {
     "name": "stdout",
     "output_type": "stream",
     "text": [
      "_________________________________________________________________\n",
      "Layer (type)                 Output Shape              Param #   \n",
      "=================================================================\n",
      "dense (Dense)                (None, 512)               401920    \n",
      "_________________________________________________________________\n",
      "dense_1 (Dense)              (None, 10)                5130      \n",
      "=================================================================\n",
      "Total params: 407,050\n",
      "Trainable params: 407,050\n",
      "Non-trainable params: 0\n",
      "_________________________________________________________________\n"
     ]
    }
   ],
   "source": [
    "# We will now compile and print out a summary of our model\n",
    "model.compile(loss='categorical_crossentropy',\n",
    "              optimizer='rmsprop',\n",
    "              metrics=['accuracy'])\n",
    "\n",
    "model.summary()"
   ]
  },
  {
   "cell_type": "code",
   "execution_count": 12,
   "metadata": {
    "colab": {
     "autoexec": {
      "startup": false,
      "wait_interval": 0
     },
     "base_uri": "https://localhost:8080/",
     "height": 1754
    },
    "colab_type": "code",
    "executionInfo": {
     "elapsed": 663534,
     "status": "ok",
     "timestamp": 1532798003303,
     "user": {
      "displayName": "Rajat Dey",
      "photoUrl": "//lh6.googleusercontent.com/-TGVxt49alJU/AAAAAAAAAAI/AAAAAAAAB94/GEEKep3pa04/s50-c-k-no/photo.jpg",
      "userId": "100492593475845593933"
     },
     "user_tz": -330
    },
    "id": "zdUKDwaR1wL7",
    "outputId": "55605edf-dbfb-45db-a54a-2a8b3b90df57"
   },
   "outputs": [
    {
     "name": "stdout",
     "output_type": "stream",
     "text": [
      "Epoch 1/50\n",
      "60000/60000 [==============================] - 13s 219us/step - loss: 0.2008 - acc: 0.9410\n",
      "Epoch 2/50\n",
      "60000/60000 [==============================] - 13s 217us/step - loss: 0.0907 - acc: 0.9737\n",
      "Epoch 3/50\n",
      "24416/60000 [===========>..................] - ETA: 7s - loss: 0.0632 - acc: 0.981960000/60000 [==============================] - 13s 215us/step - loss: 0.0650 - acc: 0.9820\n",
      "Epoch 4/50\n",
      "60000/60000 [==============================] - 13s 218us/step - loss: 0.0505 - acc: 0.9862\n",
      "Epoch 5/50\n",
      "36224/60000 [=================>............] - ETA: 5s - loss: 0.0387 - acc: 0.989460000/60000 [==============================] - 13s 219us/step - loss: 0.0416 - acc: 0.9889\n",
      "Epoch 6/50\n",
      "60000/60000 [==============================] - 13s 220us/step - loss: 0.0338 - acc: 0.9909\n",
      "Epoch 7/50\n",
      "38656/60000 [==================>...........] - ETA: 4s - loss: 0.0276 - acc: 0.992360000/60000 [==============================] - 13s 221us/step - loss: 0.0290 - acc: 0.9922\n",
      "Epoch 8/50\n",
      "60000/60000 [==============================] - 13s 221us/step - loss: 0.0237 - acc: 0.9938\n",
      "Epoch 9/50\n",
      "38240/60000 [==================>...........] - ETA: 4s - loss: 0.0213 - acc: 0.994860000/60000 [==============================] - 13s 221us/step - loss: 0.0196 - acc: 0.9951\n",
      "Epoch 10/50\n",
      "60000/60000 [==============================] - 13s 217us/step - loss: 0.0173 - acc: 0.9960\n",
      "Epoch 11/50\n",
      "39840/60000 [==================>...........] - ETA: 4s - loss: 0.0134 - acc: 0.996960000/60000 [==============================] - 13s 217us/step - loss: 0.0143 - acc: 0.9967\n",
      "Epoch 12/50\n",
      "60000/60000 [==============================] - 13s 215us/step - loss: 0.0124 - acc: 0.9969\n",
      "Epoch 13/50\n",
      "41536/60000 [===================>..........] - ETA: 3s - loss: 0.0084 - acc: 0.997960000/60000 [==============================] - 13s 215us/step - loss: 0.0105 - acc: 0.9976\n",
      "Epoch 14/50\n",
      "60000/60000 [==============================] - 13s 218us/step - loss: 0.0088 - acc: 0.9980\n",
      "Epoch 15/50\n",
      "41088/60000 [===================>..........] - ETA: 4s - loss: 0.0090 - acc: 0.998060000/60000 [==============================] - 13s 215us/step - loss: 0.0085 - acc: 0.9981\n",
      "Epoch 16/50\n",
      "60000/60000 [==============================] - 13s 216us/step - loss: 0.0080 - acc: 0.9984\n",
      "Epoch 17/50\n",
      "41568/60000 [===================>..........] - ETA: 3s - loss: 0.0065 - acc: 0.998760000/60000 [==============================] - 13s 216us/step - loss: 0.0068 - acc: 0.9987\n",
      "Epoch 18/50\n",
      "60000/60000 [==============================] - 13s 219us/step - loss: 0.0070 - acc: 0.9987\n",
      "Epoch 19/50\n",
      "40704/60000 [===================>..........] - ETA: 4s - loss: 0.0051 - acc: 0.999260000/60000 [==============================] - 13s 218us/step - loss: 0.0059 - acc: 0.9990\n",
      "Epoch 20/50\n",
      "60000/60000 [==============================] - 13s 221us/step - loss: 0.0054 - acc: 0.9992\n",
      "Epoch 21/50\n",
      "40000/60000 [===================>..........] - ETA: 4s - loss: 0.0052 - acc: 0.999260000/60000 [==============================] - 13s 218us/step - loss: 0.0054 - acc: 0.9991\n",
      "Epoch 22/50\n",
      "60000/60000 [==============================] - 13s 219us/step - loss: 0.0049 - acc: 0.9992\n",
      "Epoch 23/50\n",
      "40224/60000 [===================>..........] - ETA: 4s - loss: 0.0039 - acc: 0.999660000/60000 [==============================] - 13s 218us/step - loss: 0.0046 - acc: 0.9995\n",
      "Epoch 24/50\n",
      "60000/60000 [==============================] - 13s 220us/step - loss: 0.0042 - acc: 0.9995\n",
      "Epoch 25/50\n",
      "39776/60000 [==================>...........] - ETA: 4s - loss: 0.0032 - acc: 0.999660000/60000 [==============================] - 13s 218us/step - loss: 0.0041 - acc: 0.9995\n",
      "Epoch 26/50\n",
      "60000/60000 [==============================] - 13s 218us/step - loss: 0.0041 - acc: 0.9996\n",
      "Epoch 27/50\n",
      "40064/60000 [===================>..........] - ETA: 4s - loss: 0.0048 - acc: 0.999660000/60000 [==============================] - 13s 216us/step - loss: 0.0039 - acc: 0.9996\n",
      "Epoch 28/50\n",
      "60000/60000 [==============================] - 13s 216us/step - loss: 0.0041 - acc: 0.9996\n",
      "Epoch 29/50\n",
      "40544/60000 [===================>..........] - ETA: 4s - loss: 0.0050 - acc: 0.999660000/60000 [==============================] - 13s 217us/step - loss: 0.0038 - acc: 0.9997\n",
      "Epoch 30/50\n",
      "60000/60000 [==============================] - 13s 219us/step - loss: 0.0039 - acc: 0.9996\n",
      "Epoch 31/50\n",
      "40384/60000 [===================>..........] - ETA: 4s - loss: 0.0042 - acc: 0.999760000/60000 [==============================] - 13s 216us/step - loss: 0.0038 - acc: 0.9997\n",
      "Epoch 32/50\n",
      "60000/60000 [==============================] - 13s 218us/step - loss: 0.0036 - acc: 0.9998\n",
      "Epoch 33/50\n",
      "39936/60000 [==================>...........] - ETA: 4s - loss: 0.0051 - acc: 0.999660000/60000 [==============================] - 13s 218us/step - loss: 0.0038 - acc: 0.9997\n",
      "Epoch 34/50\n",
      "60000/60000 [==============================] - 13s 220us/step - loss: 0.0037 - acc: 0.9997\n",
      "Epoch 35/50\n",
      "39104/60000 [==================>...........] - ETA: 4s - loss: 0.0035 - acc: 0.999760000/60000 [==============================] - 13s 222us/step - loss: 0.0037 - acc: 0.9997\n",
      "Epoch 36/50\n",
      "60000/60000 [==============================] - 13s 221us/step - loss: 0.0035 - acc: 0.9998\n",
      "Epoch 37/50\n",
      "38016/60000 [==================>...........] - ETA: 4s - loss: 0.0034 - acc: 0.999860000/60000 [==============================] - 13s 222us/step - loss: 0.0035 - acc: 0.9998\n",
      "Epoch 38/50\n",
      "60000/60000 [==============================] - 14s 227us/step - loss: 0.0035 - acc: 0.9998\n",
      "Epoch 39/50\n",
      "34720/60000 [================>.............] - ETA: 5s - loss: 0.0042 - acc: 0.999760000/60000 [==============================] - 14s 230us/step - loss: 0.0035 - acc: 0.9998\n",
      "Epoch 40/50\n",
      "60000/60000 [==============================] - 14s 233us/step - loss: 0.0035 - acc: 0.9998\n",
      "Epoch 41/50\n",
      "31648/60000 [==============>...............] - ETA: 6s - loss: 0.0036 - acc: 0.999860000/60000 [==============================] - 14s 231us/step - loss: 0.0035 - acc: 0.9998\n",
      "Epoch 42/50\n",
      "60000/60000 [==============================] - 14s 229us/step - loss: 0.0035 - acc: 0.9998\n",
      "Epoch 43/50\n",
      "32288/60000 [===============>..............] - ETA: 6s - loss: 0.0050 - acc: 0.999760000/60000 [==============================] - 14s 228us/step - loss: 0.0035 - acc: 0.9998\n",
      "Epoch 44/50\n",
      "60000/60000 [==============================] - 13s 225us/step - loss: 0.0035 - acc: 0.9998\n",
      "Epoch 45/50\n",
      "33984/60000 [===============>..............] - ETA: 5s - loss: 0.0038 - acc: 0.999860000/60000 [==============================] - 14s 228us/step - loss: 0.0035 - acc: 0.9998\n",
      "Epoch 46/50\n",
      "60000/60000 [==============================] - 13s 225us/step - loss: 0.0035 - acc: 0.9998\n",
      "Epoch 47/50\n",
      "33664/60000 [===============>..............] - ETA: 6s - loss: 0.0034 - acc: 0.999860000/60000 [==============================] - 14s 229us/step - loss: 0.0035 - acc: 0.9998\n",
      "Epoch 48/50\n",
      "60000/60000 [==============================] - 14s 229us/step - loss: 0.0035 - acc: 0.9998\n",
      "Epoch 49/50\n",
      "32256/60000 [===============>..............] - ETA: 6s - loss: 0.0045 - acc: 0.999760000/60000 [==============================] - 14s 230us/step - loss: 0.0035 - acc: 0.9998\n",
      "Epoch 50/50\n",
      "60000/60000 [==============================] - 14s 226us/step - loss: 0.0035 - acc: 0.9998\n"
     ]
    },
    {
     "data": {
      "text/plain": [
       "<tensorflow.python.keras.callbacks.History at 0x7fc10114a1d0>"
      ]
     },
     "execution_count": 12,
     "metadata": {
      "tags": []
     },
     "output_type": "execute_result"
    }
   ],
   "source": [
    "#Train the model\n",
    "model.fit(train_images, train_labels, epochs=50)"
   ]
  },
  {
   "cell_type": "code",
   "execution_count": 13,
   "metadata": {
    "colab": {
     "autoexec": {
      "startup": false,
      "wait_interval": 0
     },
     "base_uri": "https://localhost:8080/",
     "height": 51
    },
    "colab_type": "code",
    "executionInfo": {
     "elapsed": 1387,
     "status": "ok",
     "timestamp": 1532798019731,
     "user": {
      "displayName": "Rajat Dey",
      "photoUrl": "//lh6.googleusercontent.com/-TGVxt49alJU/AAAAAAAAAAI/AAAAAAAAB94/GEEKep3pa04/s50-c-k-no/photo.jpg",
      "userId": "100492593475845593933"
     },
     "user_tz": -330
    },
    "id": "XCXzMw4k10fm",
    "outputId": "00fde48c-cbe7-4017-e8f1-8b13880f2f29"
   },
   "outputs": [
    {
     "name": "stdout",
     "output_type": "stream",
     "text": [
      "10000/10000 [==============================] - 1s 66us/step\n",
      "Test accuracy: 0.98\n"
     ]
    }
   ],
   "source": [
    "#Test the model\n",
    "loss, accuracy = model.evaluate(test_images, test_labels)\n",
    "print('Test accuracy: %.2f' % (accuracy))"
   ]
  },
  {
   "cell_type": "code",
   "execution_count": 0,
   "metadata": {
    "colab": {
     "autoexec": {
      "startup": false,
      "wait_interval": 0
     }
    },
    "colab_type": "code",
    "id": "mLsJm_424aJS"
   },
   "outputs": [],
   "source": []
  }
 ],
 "metadata": {
  "colab": {
   "default_view": {},
   "name": "Digit Recognition.ipynb",
   "provenance": [],
   "version": "0.3.2",
   "views": {}
  },
  "kernelspec": {
   "display_name": "Python 3",
   "language": "python",
   "name": "python3"
  },
  "language_info": {
   "codemirror_mode": {
    "name": "ipython",
    "version": 3
   },
   "file_extension": ".py",
   "mimetype": "text/x-python",
   "name": "python",
   "nbconvert_exporter": "python",
   "pygments_lexer": "ipython3",
   "version": "3.6.5"
  }
 },
 "nbformat": 4,
 "nbformat_minor": 1
}
